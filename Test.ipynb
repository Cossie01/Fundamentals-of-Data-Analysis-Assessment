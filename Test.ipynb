{
 "cells": [
  {
   "cell_type": "code",
   "execution_count": 1,
   "id": "375b3c33-8812-4d6b-8e70-d021fd21f73f",
   "metadata": {},
   "outputs": [],
   "source": [
    "import numpy as np #importing numpy package\n",
    "\n",
    "import matplotlib.pyplot as plt  #importing the matplotlib package\n",
    "\n",
    "import pandas as pd #calling in the pandas library"
   ]
  },
  {
   "cell_type": "code",
   "execution_count": 2,
   "id": "3b704d3d-8841-4122-a294-07ab136590fa",
   "metadata": {},
   "outputs": [
    {
     "name": "stdout",
     "output_type": "stream",
     "text": [
      "        Case # Link        Case Owner  Group Case Status           Channel  \\\n",
      "0  2021-03-00025759  Aisling Cahalane    NaN      closed   Webform General   \n",
      "1  2021-02-00014420      Kennan Fahey    NaN      closed   Webform General   \n",
      "2  2021-02-00017027   Elaine O'Connor    NaN      closed         Telephone   \n",
      "3  2021-01-00011134      Yew Mun WONG    NaN      closed           Workday   \n",
      "4  2021-03-00032770    Ciara McGregor    NaN      closed  Personal Contact   \n",
      "\n",
      "           Category                                       Sub Category  \\\n",
      "0  Learning Request  Learning Plan Changes (assignments, due dates,...   \n",
      "1    HR Information                                  Forms Information   \n",
      "2    HR Information                         HR Policies and Procedures   \n",
      "3      Compensation                         Annual Compensation Review   \n",
      "4    HRS Operations                                           Training   \n",
      "\n",
      "   Created Date  Closed Date  Duration of Case        Submitter  \\\n",
      "0   44257.37250  44258.41385                 1  Annabel Barrett   \n",
      "1   44229.37658  44229.49774                 0  Stacey Spinelli   \n",
      "2   44235.62417  44235.62447                 0        Anonymous   \n",
      "3   44225.66850  44235.03787                 5        Anonymous   \n",
      "4   44272.41129  44272.41181                 0   Ciara McGregor   \n",
      "\n",
      "          Submitter Country                     Priority                 Tier  \\\n",
      "0            United Kingdom  Priority 4: 5 Business Days  Learning Operations   \n",
      "1  United States of America  Priority 4: 5 Business Days               Tier 1   \n",
      "2  United States of America  Priority 4: 5 Business Days               Tier 1   \n",
      "3                     China  Priority 4: 5 Business Days   Tier 2 Global Data   \n",
      "4                   Ireland  Priority 4: 5 Business Days                  NaN   \n",
      "\n",
      "  Owner Team  \n",
      "0        NaN  \n",
      "1        NaN  \n",
      "2        NaN  \n",
      "3        NaN  \n",
      "4        NaN  \n"
     ]
    }
   ],
   "source": [
    "df= pd.read_csv(r\"C:\\Users\\35385\\Desktop\\HR Data2.csv\") #creating the data frame\n",
    "\n",
    "print(df.head())"
   ]
  },
  {
   "cell_type": "code",
   "execution_count": 3,
   "id": "bc8e835b-95e2-435b-8ffc-bc2357ec0b4c",
   "metadata": {},
   "outputs": [
    {
     "data": {
      "text/html": [
       "<div>\n",
       "<style scoped>\n",
       "    .dataframe tbody tr th:only-of-type {\n",
       "        vertical-align: middle;\n",
       "    }\n",
       "\n",
       "    .dataframe tbody tr th {\n",
       "        vertical-align: top;\n",
       "    }\n",
       "\n",
       "    .dataframe thead th {\n",
       "        text-align: right;\n",
       "    }\n",
       "</style>\n",
       "<table border=\"1\" class=\"dataframe\">\n",
       "  <thead>\n",
       "    <tr style=\"text-align: right;\">\n",
       "      <th></th>\n",
       "      <th>Group</th>\n",
       "      <th>Created Date</th>\n",
       "      <th>Closed Date</th>\n",
       "      <th>Duration of Case</th>\n",
       "    </tr>\n",
       "  </thead>\n",
       "  <tbody>\n",
       "    <tr>\n",
       "      <th>count</th>\n",
       "      <td>0.0</td>\n",
       "      <td>138730.000000</td>\n",
       "      <td>137013.000000</td>\n",
       "      <td>138730.000000</td>\n",
       "    </tr>\n",
       "    <tr>\n",
       "      <th>mean</th>\n",
       "      <td>NaN</td>\n",
       "      <td>44362.047044</td>\n",
       "      <td>44364.967474</td>\n",
       "      <td>3.543286</td>\n",
       "    </tr>\n",
       "    <tr>\n",
       "      <th>std</th>\n",
       "      <td>NaN</td>\n",
       "      <td>97.011095</td>\n",
       "      <td>96.321665</td>\n",
       "      <td>14.390020</td>\n",
       "    </tr>\n",
       "    <tr>\n",
       "      <th>min</th>\n",
       "      <td>NaN</td>\n",
       "      <td>44197.292290</td>\n",
       "      <td>44199.820670</td>\n",
       "      <td>0.000000</td>\n",
       "    </tr>\n",
       "    <tr>\n",
       "      <th>25%</th>\n",
       "      <td>NaN</td>\n",
       "      <td>44277.898255</td>\n",
       "      <td>44280.424550</td>\n",
       "      <td>0.000000</td>\n",
       "    </tr>\n",
       "    <tr>\n",
       "      <th>50%</th>\n",
       "      <td>NaN</td>\n",
       "      <td>44358.337090</td>\n",
       "      <td>44362.462360</td>\n",
       "      <td>1.000000</td>\n",
       "    </tr>\n",
       "    <tr>\n",
       "      <th>75%</th>\n",
       "      <td>NaN</td>\n",
       "      <td>44447.168448</td>\n",
       "      <td>44448.276850</td>\n",
       "      <td>3.000000</td>\n",
       "    </tr>\n",
       "    <tr>\n",
       "      <th>max</th>\n",
       "      <td>NaN</td>\n",
       "      <td>44530.995800</td>\n",
       "      <td>44533.192750</td>\n",
       "      <td>237.000000</td>\n",
       "    </tr>\n",
       "  </tbody>\n",
       "</table>\n",
       "</div>"
      ],
      "text/plain": [
       "       Group   Created Date    Closed Date  Duration of Case\n",
       "count    0.0  138730.000000  137013.000000     138730.000000\n",
       "mean     NaN   44362.047044   44364.967474          3.543286\n",
       "std      NaN      97.011095      96.321665         14.390020\n",
       "min      NaN   44197.292290   44199.820670          0.000000\n",
       "25%      NaN   44277.898255   44280.424550          0.000000\n",
       "50%      NaN   44358.337090   44362.462360          1.000000\n",
       "75%      NaN   44447.168448   44448.276850          3.000000\n",
       "max      NaN   44530.995800   44533.192750        237.000000"
      ]
     },
     "execution_count": 3,
     "metadata": {},
     "output_type": "execute_result"
    }
   ],
   "source": [
    "df.describe()"
   ]
  },
  {
   "cell_type": "code",
   "execution_count": 4,
   "id": "1e678285-15f8-4fdf-9ff2-0803a1bba747",
   "metadata": {},
   "outputs": [
    {
     "name": "stdout",
     "output_type": "stream",
     "text": [
      "Case # Link           object\n",
      "Case Owner            object\n",
      "Group                float64\n",
      "Case Status           object\n",
      "Channel               object\n",
      "Category              object\n",
      "Sub Category          object\n",
      "Created Date         float64\n",
      "Closed Date          float64\n",
      "Duration of Case       int64\n",
      "Submitter             object\n",
      "Submitter Country     object\n",
      "Priority              object\n",
      "Tier                  object\n",
      "Owner Team            object\n",
      "dtype: object\n"
     ]
    }
   ],
   "source": [
    "print(df.dtypes)"
   ]
  },
  {
   "cell_type": "code",
   "execution_count": 7,
   "id": "ebd3d376-5af0-4c5a-be2a-d95315af4119",
   "metadata": {},
   "outputs": [
    {
     "name": "stdout",
     "output_type": "stream",
     "text": [
      "2021-02-00014265    1\n",
      "2021-11-00133438    1\n",
      "2021-04-00044284    1\n",
      "2021-07-00078696    1\n",
      "2021-10-00122490    1\n",
      "                   ..\n",
      "2021-10-00124483    1\n",
      "2021-05-00052310    1\n",
      "2021-04-00039274    1\n",
      "2021-11-00131235    1\n",
      "2021-02-00021294    1\n",
      "Name: Case # Link, Length: 138730, dtype: int64\n"
     ]
    }
   ],
   "source": [
    "print(df['Case # Link'].value_counts())"
   ]
  },
  {
   "cell_type": "code",
   "execution_count": null,
   "id": "52f18e38-e198-45d9-b6ff-a854e20cbda9",
   "metadata": {},
   "outputs": [],
   "source": []
  }
 ],
 "metadata": {
  "kernelspec": {
   "display_name": "Python 3",
   "language": "python",
   "name": "python3"
  },
  "language_info": {
   "codemirror_mode": {
    "name": "ipython",
    "version": 3
   },
   "file_extension": ".py",
   "mimetype": "text/x-python",
   "name": "python",
   "nbconvert_exporter": "python",
   "pygments_lexer": "ipython3",
   "version": "3.8.8"
  }
 },
 "nbformat": 4,
 "nbformat_minor": 5
}
