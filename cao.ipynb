{
 "cells": [
  {
   "cell_type": "code",
   "execution_count": null,
   "id": "92a22e22-1e97-4c9c-a9f2-d46636a47570",
   "metadata": {},
   "outputs": [],
   "source": [
    "#Second part of the assignment comparing and contrasting Cao figures"
   ]
  },
  {
   "cell_type": "markdown",
   "id": "1016816f-3a8a-4439-b0b7-27f10872e165",
   "metadata": {},
   "source": [
    "- 10% A clear and concise overview of how to load CAO points information from the\n",
    "CAO website into a pandas data frame [4], pitched as your classmates.\n"
   ]
  },
  {
   "cell_type": "markdown",
   "id": "a5e5724c-38cd-42c8-8855-3b801b59ef07",
   "metadata": {},
   "source": [
    "- 20% A detailed comparison of CAO points in 2019, 2020, and 2021 using the functionality in pandas."
   ]
  },
  {
   "cell_type": "markdown",
   "id": "ad6a928b-e600-416d-b71c-8f19158ab85d",
   "metadata": {},
   "source": [
    "- 10% Appropriate plots and other visualisations to enhance your notebook for viewers"
   ]
  }
 ],
 "metadata": {
  "kernelspec": {
   "display_name": "Python 3",
   "language": "python",
   "name": "python3"
  },
  "language_info": {
   "codemirror_mode": {
    "name": "ipython",
    "version": 3
   },
   "file_extension": ".py",
   "mimetype": "text/x-python",
   "name": "python",
   "nbconvert_exporter": "python",
   "pygments_lexer": "ipython3",
   "version": "3.8.8"
  }
 },
 "nbformat": 4,
 "nbformat_minor": 5
}
