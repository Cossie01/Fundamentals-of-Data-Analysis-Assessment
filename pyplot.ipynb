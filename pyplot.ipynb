{
 "cells": [
  {
   "cell_type": "code",
   "execution_count": null,
   "id": "e0e0b957-98cd-4a3e-94a7-f5efb044d666",
   "metadata": {},
   "outputs": [],
   "source": [
    "#First part of the assessment on Matplotlib"
   ]
  },
  {
   "cell_type": "markdown",
   "id": "eafe4a17-a6dd-4982-a443-3c6f55ce5f10",
   "metadata": {},
   "source": [
    "- 15% A clear and concise overview of the matplotlib.pyplot Python package [3],\n",
    "pitched at your classmates."
   ]
  },
  {
   "cell_type": "markdown",
   "id": "11e71f0a-61e9-4337-ae7d-566c50ce2b33",
   "metadata": {},
   "source": [
    "- 25% An in-depth explanation of three interesting plots from the matplotlib.pyplot\n",
    "Python package [3]. You have free reign to choose the three plots yourself."
   ]
  }
 ],
 "metadata": {
  "kernelspec": {
   "display_name": "Python 3",
   "language": "python",
   "name": "python3"
  },
  "language_info": {
   "codemirror_mode": {
    "name": "ipython",
    "version": 3
   },
   "file_extension": ".py",
   "mimetype": "text/x-python",
   "name": "python",
   "nbconvert_exporter": "python",
   "pygments_lexer": "ipython3",
   "version": "3.8.8"
  }
 },
 "nbformat": 4,
 "nbformat_minor": 5
}
